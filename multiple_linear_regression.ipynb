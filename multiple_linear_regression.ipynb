{
 "cells": [
  {
   "cell_type": "markdown",
   "id": "4006fba8",
   "metadata": {},
   "source": [
    "# Multiple Linear Regression"
   ]
  },
  {
   "cell_type": "markdown",
   "id": "d6307918",
   "metadata": {},
   "source": [
    "## - Import libraries and dataset"
   ]
  },
  {
   "cell_type": "code",
   "execution_count": 1,
   "id": "9b5f4ad5",
   "metadata": {},
   "outputs": [],
   "source": [
    "import numpy as np\n",
    "import matplotlib.pyplot as plt\n",
    "import pandas as pd"
   ]
  },
  {
   "cell_type": "code",
   "execution_count": 2,
   "id": "49ec5d00",
   "metadata": {},
   "outputs": [],
   "source": [
    "dataset = pd.read_csv('Startups_Data.csv')\n",
    "X = dataset.iloc[:, :-1].values\n",
    "y = dataset.iloc[:, -1].values"
   ]
  },
  {
   "cell_type": "code",
   "execution_count": 7,
   "id": "a1b66fac",
   "metadata": {
    "scrolled": true
   },
   "outputs": [
    {
     "name": "stdout",
     "output_type": "stream",
     "text": [
      "  (0, 48)\t1.0\n",
      "  (0, 51)\t1.0\n",
      "  (0, 52)\t136897.8\n",
      "  (0, 53)\t471784.1\n",
      "  (1, 47)\t1.0\n",
      "  (1, 49)\t1.0\n",
      "  (1, 52)\t151377.59\n",
      "  (1, 53)\t443898.53\n",
      "  (2, 46)\t1.0\n",
      "  (2, 50)\t1.0\n",
      "  (2, 52)\t101145.55\n",
      "  (2, 53)\t407934.54\n",
      "  (3, 45)\t1.0\n",
      "  (3, 51)\t1.0\n",
      "  (3, 52)\t118671.85\n",
      "  (3, 53)\t383199.62\n",
      "  (4, 44)\t1.0\n",
      "  (4, 50)\t1.0\n",
      "  (4, 52)\t91391.77\n",
      "  (4, 53)\t366168.42\n",
      "  (5, 42)\t1.0\n",
      "  (5, 51)\t1.0\n",
      "  (5, 52)\t99814.71\n",
      "  (5, 53)\t362861.36\n",
      "  (6, 43)\t1.0\n",
      "  :\t:\n",
      "  (43, 51)\t1.0\n",
      "  (43, 52)\t127382.3\n",
      "  (43, 53)\t35534.17\n",
      "  (44, 6)\t1.0\n",
      "  (44, 49)\t1.0\n",
      "  (44, 52)\t154806.14\n",
      "  (44, 53)\t28334.72\n",
      "  (45, 2)\t1.0\n",
      "  (45, 51)\t1.0\n",
      "  (45, 52)\t124153.04\n",
      "  (45, 53)\t1903.93\n",
      "  (46, 3)\t1.0\n",
      "  (46, 50)\t1.0\n",
      "  (46, 52)\t115816.21\n",
      "  (46, 53)\t297114.46\n",
      "  (47, 0)\t1.0\n",
      "  (47, 49)\t1.0\n",
      "  (47, 52)\t135426.92\n",
      "  (48, 1)\t1.0\n",
      "  (48, 51)\t1.0\n",
      "  (48, 52)\t51743.15\n",
      "  (49, 0)\t1.0\n",
      "  (49, 49)\t1.0\n",
      "  (49, 52)\t116983.8\n",
      "  (49, 53)\t45173.06\n"
     ]
    }
   ],
   "source": [
    "print(X)"
   ]
  },
  {
   "cell_type": "markdown",
   "id": "e9a628e3",
   "metadata": {},
   "source": [
    "## - Encoding categorical data"
   ]
  },
  {
   "cell_type": "code",
   "execution_count": 5,
   "id": "3fb6c8a7",
   "metadata": {},
   "outputs": [],
   "source": [
    "from sklearn.compose import ColumnTransformer\n",
    "from sklearn.preprocessing import OneHotEncoder\n",
    "ct = ColumnTransformer(transformers=[('encoder', OneHotEncoder(), [3])], remainder='passthrough')\n",
    "X = np.array(ct.fit_transform(X))"
   ]
  },
  {
   "cell_type": "code",
   "execution_count": 6,
   "id": "68069781",
   "metadata": {},
   "outputs": [
    {
     "name": "stdout",
     "output_type": "stream",
     "text": [
      "  (0, 48)\t1.0\n",
      "  (0, 51)\t1.0\n",
      "  (0, 52)\t136897.8\n",
      "  (0, 53)\t471784.1\n",
      "  (1, 47)\t1.0\n",
      "  (1, 49)\t1.0\n",
      "  (1, 52)\t151377.59\n",
      "  (1, 53)\t443898.53\n",
      "  (2, 46)\t1.0\n",
      "  (2, 50)\t1.0\n",
      "  (2, 52)\t101145.55\n",
      "  (2, 53)\t407934.54\n",
      "  (3, 45)\t1.0\n",
      "  (3, 51)\t1.0\n",
      "  (3, 52)\t118671.85\n",
      "  (3, 53)\t383199.62\n",
      "  (4, 44)\t1.0\n",
      "  (4, 50)\t1.0\n",
      "  (4, 52)\t91391.77\n",
      "  (4, 53)\t366168.42\n",
      "  (5, 42)\t1.0\n",
      "  (5, 51)\t1.0\n",
      "  (5, 52)\t99814.71\n",
      "  (5, 53)\t362861.36\n",
      "  (6, 43)\t1.0\n",
      "  :\t:\n",
      "  (43, 51)\t1.0\n",
      "  (43, 52)\t127382.3\n",
      "  (43, 53)\t35534.17\n",
      "  (44, 6)\t1.0\n",
      "  (44, 49)\t1.0\n",
      "  (44, 52)\t154806.14\n",
      "  (44, 53)\t28334.72\n",
      "  (45, 2)\t1.0\n",
      "  (45, 51)\t1.0\n",
      "  (45, 52)\t124153.04\n",
      "  (45, 53)\t1903.93\n",
      "  (46, 3)\t1.0\n",
      "  (46, 50)\t1.0\n",
      "  (46, 52)\t115816.21\n",
      "  (46, 53)\t297114.46\n",
      "  (47, 0)\t1.0\n",
      "  (47, 49)\t1.0\n",
      "  (47, 52)\t135426.92\n",
      "  (48, 1)\t1.0\n",
      "  (48, 51)\t1.0\n",
      "  (48, 52)\t51743.15\n",
      "  (49, 0)\t1.0\n",
      "  (49, 49)\t1.0\n",
      "  (49, 52)\t116983.8\n",
      "  (49, 53)\t45173.06\n"
     ]
    }
   ],
   "source": [
    "print(X)"
   ]
  }
 ],
 "metadata": {
  "interpreter": {
   "hash": "de3aa59a6f5395cd970cf302bb13a9619e9267d53297adafab658338df933a64"
  },
  "kernelspec": {
   "display_name": "Python 3 (ipykernel)",
   "language": "python",
   "name": "python3"
  },
  "language_info": {
   "codemirror_mode": {
    "name": "ipython",
    "version": 3
   },
   "file_extension": ".py",
   "mimetype": "text/x-python",
   "name": "python",
   "nbconvert_exporter": "python",
   "pygments_lexer": "ipython3",
   "version": "3.10.4"
  }
 },
 "nbformat": 4,
 "nbformat_minor": 5
}
